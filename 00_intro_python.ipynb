{
  "nbformat": 4,
  "nbformat_minor": 0,
  "metadata": {
    "colab": {
      "provenance": [],
      "authorship_tag": "ABX9TyO3oNMEBTtWzUXICW+ESXG2",
      "include_colab_link": true
    },
    "kernelspec": {
      "name": "python3",
      "display_name": "Python 3"
    },
    "language_info": {
      "name": "python"
    }
  },
  "cells": [
    {
      "cell_type": "markdown",
      "metadata": {
        "id": "view-in-github",
        "colab_type": "text"
      },
      "source": [
        "<a href=\"https://colab.research.google.com/github/fatima-zahra-github-account/python-assingnment/blob/main/00_intro_python.ipynb\" target=\"_parent\"><img src=\"https://colab.research.google.com/assets/colab-badge.svg\" alt=\"Open In Colab\"/></a>"
      ]
    },
    {
      "cell_type": "code",
      "execution_count": null,
      "metadata": {
        "colab": {
          "base_uri": "https://localhost:8080/"
        },
        "id": "Ysq34jVyLDVJ",
        "outputId": "74549184-d866-426e-8c1a-43f0d8151e16"
      },
      "outputs": [
        {
          "output_type": "stream",
          "name": "stdout",
          "text": [
            "01_add_two_numbers.md\n",
            "This application for add two numbers\n",
            "Enter Your first number:10\n",
            "Enter second number:30\n",
            "this is a total sum of 10 and 30 is 40\n"
          ]
        }
      ],
      "source": [
        "print(\"01_add_two_numbers.md\")\n",
        "\n",
        "def add():\n",
        " print(\"This application for add two numbers. \")\n",
        " first_number = int(input(\"Enter Your first number: \"))\n",
        " second_number = int( input(\"Enter second number: \"))\n",
        " total = int(first_number + second_number)\n",
        " print(f\"this is a total sum of {first_number} and {second_number} is {total}\")\n",
        "\n",
        "if __name__ == \"__main__\":\n",
        "  add()\n"
      ]
    },
    {
      "cell_type": "code",
      "source": [
        "print(\"02_agreement_bot\")\n",
        "\n",
        "def bot():\n",
        "\n",
        "    animal = str(input(\"What their favorite animal? \"))\n",
        "    print(f\"My favorite animal is also {animal}!\")\n",
        "\n",
        "if __name__ == \"__main__\":\n",
        "    bot()"
      ],
      "metadata": {
        "colab": {
          "base_uri": "https://localhost:8080/"
        },
        "id": "bfjjkoTbD5vk",
        "outputId": "7daf8290-ab92-4e5f-f2fd-e295bea35476"
      },
      "execution_count": null,
      "outputs": [
        {
          "output_type": "stream",
          "name": "stdout",
          "text": [
            "02_agreement_bot\n",
            "What their favorite animal?cat\n",
            "My favorite animal is also cat!\n"
          ]
        }
      ]
    },
    {
      "cell_type": "code",
      "source": [
        "print(\"03_fahrenheit_to_celsius\")\n",
        "\n",
        "def temp():\n",
        "  print(\"This code for converting fahrenheit_to_celsius\")\n",
        "  fahrenheit_degree = float(input(\"Enter Your fahrenheit degree:\"))\n",
        "  celsius_degree = (fahrenheit_degree - 32) * 5.0/9.0\n",
        "  print(f\"Tempreture {fahrenheit_degree} F = {celsius_degree} C\")\n",
        "\n",
        "if __name__ == \"__main__\":\n",
        "  temp()\n",
        "\n"
      ],
      "metadata": {
        "colab": {
          "base_uri": "https://localhost:8080/"
        },
        "id": "90YxmKI9Jegz",
        "outputId": "46d6841c-f268-4eac-a362-9e3e93a68a2e"
      },
      "execution_count": null,
      "outputs": [
        {
          "output_type": "stream",
          "name": "stdout",
          "text": [
            "03_fahrenheit_to_celsius\n",
            "This code for converting fahrenheit_to_celsius\n",
            "Enter Your fahrenheit degree:67\n",
            "Tempreture 67.0 F = 19.444444444444443 C\n"
          ]
        }
      ]
    },
    {
      "cell_type": "code",
      "source": [
        "print(\"04_how_old_are_they\")\n",
        "\n",
        "def add_ages():\n",
        "  anthon: int = 21\n",
        "  beth: int = anthon + 6\n",
        "  chen: int = beth + 20\n",
        "  drew: int = chen + anthon\n",
        "  ethon: int = chen\n",
        "\n",
        "  print(\"Anthon is\" + str(anthon))\n",
        "  print(\"Beth is\" + str(beth))\n",
        "  print(\"Chen is\" + str(chen))\n",
        "  print(\"Drew is\" + str(drew))\n",
        "  print(\"Ethon is\" + str(ethon))\n",
        "\n",
        "if __name__ == \"__main__\":\n",
        "  add_ages()\n"
      ],
      "metadata": {
        "colab": {
          "base_uri": "https://localhost:8080/"
        },
        "id": "S57fJxhVf_v8",
        "outputId": "e4d5ffe1-a28c-4b03-d958-61029ac005de"
      },
      "execution_count": null,
      "outputs": [
        {
          "output_type": "stream",
          "name": "stdout",
          "text": [
            "04_how_old_are_they\n",
            "Anthon is21\n",
            "Beth is27\n",
            "Chen is47\n",
            "Drew is68\n",
            "Ethon is47\n"
          ]
        }
      ]
    },
    {
      "cell_type": "code",
      "source": [
        "print(\"05_triangle_perimeter\")\n",
        "\n",
        "def triangle():\n",
        "  print(\"This code is about perimeter of triangle.\")\n",
        "  side1: float = float(input(\"Enter Your first side no of triangle: \"))\n",
        "  side2: float = float(input(\"Enter Your second side no of triangle: \"))\n",
        "  side3: float = float(input(\"Enter Your third side no of triangle: \"))\n",
        "  total:float = float(side1 + side2 + side3)\n",
        "  print(f\"The perimeter of the triangle is {total}\")\n",
        "\n",
        "if __name__ == \"__main__\":\n",
        "  triangle()\n"
      ],
      "metadata": {
        "colab": {
          "base_uri": "https://localhost:8080/"
        },
        "id": "mpO4SIYvk88v",
        "outputId": "8312da7a-d821-4e80-87e1-ff3cf68cf155"
      },
      "execution_count": null,
      "outputs": [
        {
          "output_type": "stream",
          "name": "stdout",
          "text": [
            "05_triangle_perimeter\n",
            "This code is about perimeter of triangle.\n",
            "Enter Your first side no of triangle: 5\n",
            "Enter Your second side no of triangle: 3\n",
            "Enter Your third side no of triangle: 2\n",
            "The perimeter of the triangle is 10.0\n"
          ]
        }
      ]
    },
    {
      "cell_type": "code",
      "source": [
        "print(\"06_square_number\")\n",
        "\n",
        "def square():\n",
        "  print(\"this code is about square of given number\")\n",
        "  num1: int = int(input(\"Enter any number and i will give you a square value: \"))\n",
        "  print(f\"The square of {num1} is {num1 ** 2}\")\n",
        "\n",
        "if __name__ == \"__main__\":\n",
        "  square()\n"
      ],
      "metadata": {
        "colab": {
          "base_uri": "https://localhost:8080/"
        },
        "id": "c7Cdeo9vpg2o",
        "outputId": "d4b607cf-74b2-4106-9c28-b1573823824b"
      },
      "execution_count": null,
      "outputs": [
        {
          "output_type": "stream",
          "name": "stdout",
          "text": [
            "06_square_number\n",
            "this code is about square of given number\n",
            "Enter any number and i will give you a square value: 5\n",
            "The square of 5 is 25\n"
          ]
        }
      ]
    }
  ]
}